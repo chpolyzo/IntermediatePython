{
 "cells": [
  {
   "cell_type": "code",
   "execution_count": 1,
   "id": "207c364c",
   "metadata": {},
   "outputs": [],
   "source": [
    "from abc import ABC, abstractmethod\n",
    "from typing import List\n",
    "import pandas as pd\n",
    "import docx\n",
    "import os\n",
    "import subprocess\n",
    "\n",
    "from PIL import Image\n",
    "from PIL import ImageFont\n",
    "from PIL import ImageDraw\n",
    "import random\n",
    "import string\n",
    "import textwrap"
   ]
  },
  {
   "cell_type": "code",
   "execution_count": 2,
   "id": "7e4cb514",
   "metadata": {},
   "outputs": [],
   "source": [
    "\"\"\"\n",
    "Simple QuoteModel implementation class to encapsulate the body and author\n",
    "\"\"\"\n",
    "class QuoteModel:\n",
    "    \"\"\"\n",
    "    Implementation class to encapsulate a quote body and a quote author.\n",
    "    The purpose of our quote generator contains a body and an author\n",
    "    \"\"\"\n",
    "\n",
    "    def __init__(self, body: str, author: str):\n",
    "        \"\"\"Create a simple model using a quote author and a quote body.\"\"\"\n",
    "        self.author = str(author)\n",
    "        self.body = str(body)\n",
    "\n",
    "    def __str__(self):\n",
    "        \"\"\"Override method representing the QuoteModel class objects as a string\"\"\"\n",
    "        return f\"{self.body} \\n Quote by {self.author}\"\n",
    "\n",
    "    def __repr__(self):\n",
    "        \"\"\"Override method used to represent a class's objects as a string\"\"\"\n",
    "        return f\"Quote Model Author: {self.author}, Quote Model body: {self.body}\"\n"
   ]
  },
  {
   "cell_type": "code",
   "execution_count": 3,
   "id": "b3cc9188",
   "metadata": {},
   "outputs": [],
   "source": [
    "class IngestorInterface(ABC):\n",
    "\n",
    "    accepted_files = []\n",
    "    \n",
    "    @classmethod\n",
    "    def can_ingest(cls, path: str) -> bool:\n",
    "\n",
    "        flag = path.split('.')[-1] in cls.accepted_files\n",
    "        return flag\n",
    "    \n",
    "    @classmethod\n",
    "    @abstractmethod\n",
    "    def parse(cls, path: str) -> List[QuoteModel]:\n",
    "        pass"
   ]
  },
  {
   "cell_type": "code",
   "execution_count": 4,
   "id": "dbe31e4f",
   "metadata": {},
   "outputs": [],
   "source": [
    "class CSVInterface(IngestorInterface):\n",
    "    \"\"\"A class that handles the ingestion of csv files.\"\"\"\n",
    "\n",
    "    accepted_files = [\"csv\"]\n",
    "\n",
    "    @classmethod\n",
    "    def parse(cls, path: str) -> List[QuoteModel]:\n",
    "        \"\"\"Parse QuoteModel obj of csv files and return a list of them.\"\"\"\n",
    "        if not cls.can_ingest(path):\n",
    "            raise ValueError(f'File {path} cannot be processed')\n",
    "\n",
    "        \n",
    "        df = pd.read_csv(path)\n",
    "        quotes = [QuoteModel(df.loc[idx, 'body'], df.loc[idx, 'author']) for idx in range(len(df))]\n",
    "        return quotes"
   ]
  },
  {
   "cell_type": "code",
   "execution_count": 5,
   "id": "d083d984",
   "metadata": {},
   "outputs": [
    {
     "data": {
      "text/plain": [
       "[Quote Model Author: Skittle, Quote Model body: Chase the mailman,\n",
       " Quote Model Author: Mr. Paws, Quote Model body: When in doubt, go shoe-shopping]"
      ]
     },
     "execution_count": 5,
     "metadata": {},
     "output_type": "execute_result"
    }
   ],
   "source": [
    "csv_quote = CSVInterface()\n",
    "csv_quote.parse(\"..\\\\_data\\\\DogQuotes\\\\DogQuotesCSV.csv\")"
   ]
  },
  {
   "cell_type": "code",
   "execution_count": 6,
   "id": "4f9ef46d",
   "metadata": {},
   "outputs": [],
   "source": [
    "class TXTInterface(IngestorInterface):\n",
    "    \"\"\"A txt ingestion handler class \"\"\"\n",
    "\n",
    "    accepted_files = [\"txt\"]\n",
    "\n",
    "    @classmethod\n",
    "    def parse(cls, path: str) -> List[QuoteModel]:\n",
    "        \"\"\"\n",
    "        Parses QuoteModel objects of txt files,\n",
    "        returning a list of QuoteModels.\n",
    "        \"\"\"\n",
    "        if not cls.can_ingest(path):\n",
    "            raise ValueError(f'File {path} cannot be processed')\n",
    "\n",
    "        with open(path, \"r\", encoding=\"utf-8-sig\") as infile:\n",
    "            filelines = infile.readlines()\n",
    "        \n",
    "        rows = [row.replace(\"\\n\", \"\").split(\"-\") for row in filelines]\n",
    "        quotes = [QuoteModel(quote[0].strip(), quote[1].strip()) for quote in rows]\n",
    "        return quotes"
   ]
  },
  {
   "cell_type": "code",
   "execution_count": 7,
   "id": "9810de97",
   "metadata": {},
   "outputs": [
    {
     "data": {
      "text/plain": [
       "[Quote Model Author: Bork, Quote Model body: To bork or not to bork,\n",
       " Quote Model Author: Stinky, Quote Model body: He who smelt it...]"
      ]
     },
     "execution_count": 7,
     "metadata": {},
     "output_type": "execute_result"
    }
   ],
   "source": [
    "txt_quote = TXTInterface()\n",
    "txt_quote.parse(\"..\\\\_data\\\\DogQuotes\\\\DogQuotesTXT.txt\")"
   ]
  },
  {
   "cell_type": "code",
   "execution_count": 8,
   "id": "11e64902",
   "metadata": {},
   "outputs": [],
   "source": [
    "class DOCXInterface(IngestorInterface):\n",
    "    \"\"\"A txt ingestion handler class\"\"\"\n",
    "\n",
    "    accepted_files = [\"docx\"]\n",
    "\n",
    "    @classmethod\n",
    "    def parse(cls, path: str) -> List[QuoteModel]:\n",
    "        \"\"\"\n",
    "        Parses QuoteModel objects of docx files,\n",
    "        returning a list of QuoteModels.\n",
    "        \"\"\"\n",
    "        if not cls.can_ingest(path):\n",
    "            raise ValueError(f'File {path} cannot be processed')\n",
    "            \n",
    "        doc = docx.Document(path)\n",
    "        \n",
    "        rows = [row.text.split('-') for row in doc.paragraphs if row.text != \"\"]\n",
    "        quotes = [QuoteModel(quote[0].strip(), quote[1].strip()) for quote in rows]\n",
    "\n",
    "\n",
    "        return quotes"
   ]
  },
  {
   "cell_type": "code",
   "execution_count": 9,
   "id": "a72db752",
   "metadata": {},
   "outputs": [
    {
     "data": {
      "text/plain": [
       "[Quote Model Author: Rex, Quote Model body: \"Bark like no one’s listening\",\n",
       " Quote Model Author: Chewy, Quote Model body: \"RAWRGWAWGGR\",\n",
       " Quote Model Author: Peanut, Quote Model body: \"Life is like peanut butter: crunchy\",\n",
       " Quote Model Author: Tiny, Quote Model body: \"Channel your inner husky\"]"
      ]
     },
     "execution_count": 9,
     "metadata": {},
     "output_type": "execute_result"
    }
   ],
   "source": [
    "docx_quote = DOCXInterface()\n",
    "docx_quote.parse(\"..\\\\_data\\\\DogQuotes\\\\DogQuotesDOCX.docx\")"
   ]
  },
  {
   "cell_type": "code",
   "execution_count": 10,
   "id": "1351ae66",
   "metadata": {},
   "outputs": [],
   "source": [
    "class PDFInterface(IngestorInterface):\n",
    "    \"\"\"A pdf ingestion handler class\"\"\"\n",
    "\n",
    "    accepted_files = [\"pdf\"]\n",
    "\n",
    "    @classmethod\n",
    "    def parse(cls, path: str) -> List[QuoteModel]:\n",
    "        \"\"\"\n",
    "        Parses QuoteModel objects of pdf files,\n",
    "        returning a list of QuoteModels.\n",
    "        \"\"\"\n",
    "        if not cls.can_ingest(path):\n",
    "            raise ValueError(f'File {path} cannot be processed')\n",
    "        # temporary file creation aiming to read and save pdftotext output\n",
    "        temp_file = f\".temporary_file_to_delete.txt\"\n",
    "        \n",
    "        # calling pdftotext tool\n",
    "        subprocess.run([\"pdftotext\", \"-layout\", path, temp_file])\n",
    "        # iterate through temporary txt file\n",
    "        with open(temp_file, \"r\") as infile:\n",
    "            lines = infile.readlines()\n",
    "            rows = [line.strip().split(\"-\") for line in lines]\n",
    "            quotes = [QuoteModel(quote[0], quote[-1]) for quote in rows if (len(quote[0])>0 | len(quote[-1])>0) ]\n",
    "        \n",
    "        os.remove(temp_file) # Remove the created txt file.\n",
    "        return quotes"
   ]
  },
  {
   "cell_type": "code",
   "execution_count": 11,
   "id": "f1a72037",
   "metadata": {},
   "outputs": [
    {
     "data": {
      "text/plain": [
       "[Quote Model Author:  Fluffles, Quote Model body: \"Treat yo self\" ,\n",
       " Quote Model Author:  Forrest Pup, Quote Model body: \"Life is like a box of treats\" ,\n",
       " Quote Model Author:  Bark Twain, Quote Model body: \"It's the size of the fight in the dog\" ]"
      ]
     },
     "execution_count": 11,
     "metadata": {},
     "output_type": "execute_result"
    }
   ],
   "source": [
    "pdf_quote = PDFInterface()\n",
    "pdf_quote.parse(\"..\\\\_data\\\\DogQuotes\\\\DogQuotesPDF.pdf\")"
   ]
  },
  {
   "cell_type": "code",
   "execution_count": 12,
   "id": "50844401",
   "metadata": {},
   "outputs": [],
   "source": [
    "class Ingestor(IngestorInterface):\n",
    "    \"\"\"\n",
    "    File manager encapsulation ingestors deciding which Interface ingestor is appropriate.\n",
    "    It Returns a list of Quote Models as we have working it ouut in the different Interfaces\n",
    "    for each file type ingestion .\n",
    "    \"\"\"\n",
    "\n",
    "    ingestorInterfaces = [CSVInterface, DOCXInterface, TXTInterface, PDFInterface]\n",
    "\n",
    "    @classmethod\n",
    "    def parse(cls, path: str) -> List[QuoteModel]:\n",
    "        \"\"\"\n",
    "        Iterate our differet ingestor Interfaces \n",
    "        and run the approprate can_ingest method \n",
    "        It returns the list of Quote Models\n",
    "        \"\"\"\n",
    "        for ingestor in cls.ingestorInterfaces:\n",
    "            if ingestor.can_ingest(path):\n",
    "                return ingestor.parse(path)"
   ]
  },
  {
   "cell_type": "code",
   "execution_count": 13,
   "id": "dd2e0b58",
   "metadata": {},
   "outputs": [],
   "source": [
    "Ingestor = Ingestor()"
   ]
  },
  {
   "cell_type": "code",
   "execution_count": 14,
   "id": "9e9a17bc",
   "metadata": {},
   "outputs": [
    {
     "data": {
      "text/plain": [
       "[Quote Model Author: Skittle, Quote Model body: Chase the mailman,\n",
       " Quote Model Author: Mr. Paws, Quote Model body: When in doubt, go shoe-shopping]"
      ]
     },
     "execution_count": 14,
     "metadata": {},
     "output_type": "execute_result"
    }
   ],
   "source": [
    "Ingestor.parse(\"..\\\\_data\\\\DogQuotes\\\\DogQuotesCSV.csv\")"
   ]
  },
  {
   "cell_type": "code",
   "execution_count": 15,
   "id": "64db9b65",
   "metadata": {},
   "outputs": [
    {
     "data": {
      "text/plain": [
       "[Quote Model Author: Bork, Quote Model body: To bork or not to bork,\n",
       " Quote Model Author: Stinky, Quote Model body: He who smelt it...]"
      ]
     },
     "execution_count": 15,
     "metadata": {},
     "output_type": "execute_result"
    }
   ],
   "source": [
    "Ingestor.parse(\"..\\\\_data\\\\DogQuotes\\\\DogQuotesTXT.txt\")"
   ]
  },
  {
   "cell_type": "code",
   "execution_count": 16,
   "id": "b63490bb",
   "metadata": {},
   "outputs": [
    {
     "data": {
      "text/plain": [
       "[Quote Model Author: Rex, Quote Model body: \"Bark like no one’s listening\",\n",
       " Quote Model Author: Chewy, Quote Model body: \"RAWRGWAWGGR\",\n",
       " Quote Model Author: Peanut, Quote Model body: \"Life is like peanut butter: crunchy\",\n",
       " Quote Model Author: Tiny, Quote Model body: \"Channel your inner husky\"]"
      ]
     },
     "execution_count": 16,
     "metadata": {},
     "output_type": "execute_result"
    }
   ],
   "source": [
    "Ingestor.parse(\"..\\\\_data\\\\DogQuotes\\\\DogQuotesDOCX.docx\")"
   ]
  },
  {
   "cell_type": "code",
   "execution_count": 17,
   "id": "1c1b40d1",
   "metadata": {},
   "outputs": [
    {
     "data": {
      "text/plain": [
       "[Quote Model Author:  Fluffles, Quote Model body: \"Treat yo self\" ,\n",
       " Quote Model Author:  Forrest Pup, Quote Model body: \"Life is like a box of treats\" ,\n",
       " Quote Model Author:  Bark Twain, Quote Model body: \"It's the size of the fight in the dog\" ]"
      ]
     },
     "execution_count": 17,
     "metadata": {},
     "output_type": "execute_result"
    }
   ],
   "source": [
    "Ingestor.parse(\"..\\\\_data\\\\DogQuotes\\\\DogQuotesPDF.pdf\")"
   ]
  },
  {
   "cell_type": "code",
   "execution_count": 18,
   "id": "5c1cfa57",
   "metadata": {},
   "outputs": [],
   "source": [
    "class ImageGenerator(object):\n",
    "\n",
    "    def __init__(self, output_directory):\n",
    "        self.output_directory = output_directory\n",
    "\n",
    "    def create_meme(self, image, body, author, width=500) -> str:\n",
    "        try:\n",
    "            img = Image.open(image)\n",
    "            img_aspect_ratio = img.width/img.height\n",
    "            mm_width, mm_height = 500, int(500*img_aspect_ratio)\n",
    "            resized_img = img.resize((mm_width, mm_height))\n",
    "\n",
    "            quote = QuoteModel(body, author).__str__()\n",
    "            quote_printout = textwrap.fill(quote, 50) if len(quote) > 50 else quote\n",
    "\n",
    "            x = int(mm_width/16)\n",
    "            y = int(mm_height/16)\n",
    "\n",
    "            draw_meme = ImageDraw.Draw(resized_img)\n",
    "            draw_meme.text((x, y), text=quote_printout, font=ImageFont.truetype(\"verdana.ttf\", 15))\n",
    "            \n",
    "            output_path = os.path.join(self.output_directory, \n",
    "                                       ''.join(random.choice(string.ascii_letters) for x in range(15)) + '.png')\n",
    "            \n",
    "            resized_img.save(output_path)\n",
    "            return output_path\n",
    "        \n",
    "        except Exception as e:\n",
    "            raise Exception(e)"
   ]
  },
  {
   "cell_type": "code",
   "execution_count": 19,
   "id": "5f6cd62a",
   "metadata": {},
   "outputs": [],
   "source": [
    "ImageGenerator = ImageGenerator(\"..\\\\_data\\\\meme_directory\")"
   ]
  },
  {
   "cell_type": "code",
   "execution_count": 20,
   "id": "180f8417",
   "metadata": {},
   "outputs": [
    {
     "data": {
      "text/plain": [
       "'..\\\\_data\\\\meme_directory\\\\jrkZVYsxAjJqjdL.png'"
      ]
     },
     "execution_count": 20,
     "metadata": {},
     "output_type": "execute_result"
    }
   ],
   "source": [
    "ImageGenerator.create_meme(\"..\\\\_data\\\\photos\\\\dog\\\\xander_1.jpg\", \"To live or not to live\", \"William Shakespeare\")"
   ]
  },
  {
   "cell_type": "code",
   "execution_count": 21,
   "id": "829c0771",
   "metadata": {},
   "outputs": [
    {
     "data": {
      "text/plain": [
       "'..\\\\_data\\\\meme_directory\\\\fLqINKhLTfjPKAH.png'"
      ]
     },
     "execution_count": 21,
     "metadata": {},
     "output_type": "execute_result"
    }
   ],
   "source": [
    "ImageGenerator.create_meme(\"..\\\\_data\\\\photos\\\\dog\\\\xander_2.jpg\", \\\n",
    "                         \"Be yourself; everyone else is already taken\", \"Oscar Wilde\")"
   ]
  },
  {
   "cell_type": "code",
   "execution_count": 22,
   "id": "cdb7a248",
   "metadata": {},
   "outputs": [
    {
     "data": {
      "text/plain": [
       "'..\\\\_data\\\\meme_directory\\\\eTRGsnXIANYPHJU.png'"
      ]
     },
     "execution_count": 22,
     "metadata": {},
     "output_type": "execute_result"
    }
   ],
   "source": [
    "ImageGenerator.create_meme(\"..\\\\_data\\\\photos\\\\dog\\\\xander_3.jpg\",\\\n",
    "                         \"I've learned that people will forget what you said,\\\n",
    "people will forget what you did, but people will never forget how you made them feel.\", \"Maya Angelou\")"
   ]
  },
  {
   "cell_type": "code",
   "execution_count": 23,
   "id": "becb2791",
   "metadata": {},
   "outputs": [
    {
     "data": {
      "text/plain": [
       "'..\\\\_data\\\\meme_directory\\\\QFBVtcGhJRGoeEF.png'"
      ]
     },
     "execution_count": 23,
     "metadata": {},
     "output_type": "execute_result"
    }
   ],
   "source": [
    "ImageGenerator.create_meme(\"..\\\\_data\\\\photos\\\\dog\\\\xander_4.jpg\", \"Here's to the crazy ones.\\\n",
    "                        The misfits.\\\n",
    "                        The rebels.\\\n",
    "                        The troublemakers.\\\n",
    "                        The round pegs in the square holes.\\\n",
    "                        The ones who see things differently.\\\n",
    "                        They're not fond of rules. \\\n",
    "                        And they have no respect for the status quo.\\\n",
    "                        You can quote them, disagree with them, glorify or vilify them.\\\n",
    "                        About the only thing you can't do is ignore them.\\\n",
    "                        Because they change things. \\\n",
    "                        They push the human race forward. \\\n",
    "                        And while some may see them as the crazy ones, we see genius.\\\n",
    "                        Because the people who are crazy enough to think they can change the world,\\\n",
    "                        are the ones who do\",\"Rob Siltanen\")"
   ]
  }
 ],
 "metadata": {
  "kernelspec": {
   "display_name": "Python 3 (ipykernel)",
   "language": "python",
   "name": "python3"
  },
  "language_info": {
   "codemirror_mode": {
    "name": "ipython",
    "version": 3
   },
   "file_extension": ".py",
   "mimetype": "text/x-python",
   "name": "python",
   "nbconvert_exporter": "python",
   "pygments_lexer": "ipython3",
   "version": "3.9.12"
  }
 },
 "nbformat": 4,
 "nbformat_minor": 5
}
