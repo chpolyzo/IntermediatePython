{
 "cells": [
  {
   "cell_type": "code",
   "execution_count": 1,
   "id": "207c364c",
   "metadata": {},
   "outputs": [],
   "source": [
    "from abc import ABC, abstractmethod\n",
    "from typing import List\n",
    "import pandas as pd\n",
    "import docx"
   ]
  },
  {
   "cell_type": "code",
   "execution_count": 2,
   "id": "7e4cb514",
   "metadata": {},
   "outputs": [],
   "source": [
    "\"\"\"\n",
    "Simple QuoteModel implementation class to encapsulate the body and author\n",
    "\"\"\"\n",
    "class QuoteModel:\n",
    "    \"\"\"\n",
    "    Implementation class to encapsulate a quote body and a quote author.\n",
    "    The purpose of our quote generator contains a body and an author\n",
    "    \"\"\"\n",
    "\n",
    "    def __init__(self, body: str, author: str):\n",
    "        \"\"\"Create a simple model using a quote author and a quote body.\"\"\"\n",
    "        self.author = str(author)\n",
    "        self.body = str(body)\n",
    "        \n",
    "\n",
    "    def __str__(self):\n",
    "        \"\"\"Override method representing the QuoteModel class objects as a string\"\"\"\n",
    "        return f\"Author {self.author} of quote {self.body} in Simple Quote Model\"\n",
    "\n",
    "    def __repr__(self):\n",
    "        \"\"\"Override method used to represent a class's objects as a string\"\"\"\n",
    "        return f\"Quote Model Author: {self.author}, Quote Model body: {self.body}\"\n"
   ]
  },
  {
   "cell_type": "code",
   "execution_count": 3,
   "id": "b3cc9188",
   "metadata": {},
   "outputs": [],
   "source": [
    "class IngestorInterface(ABC):\n",
    "\n",
    "    accepted_files = []\n",
    "    \n",
    "    @classmethod\n",
    "    def can_ingest(cls, path: str) -> bool:\n",
    "\n",
    "        flag = path.split('.')[-1] in cls.accepted_files\n",
    "        return flag\n",
    "    \n",
    "    @classmethod\n",
    "    @abstractmethod\n",
    "    def parse(cls, path: str) -> List[QuoteModel]:\n",
    "        pass"
   ]
  },
  {
   "cell_type": "code",
   "execution_count": 4,
   "id": "dbe31e4f",
   "metadata": {},
   "outputs": [],
   "source": [
    "class CSVInterface(IngestorInterface):\n",
    "    \"\"\"A class that handles the ingestion of csv files.\"\"\"\n",
    "\n",
    "    accepted_files = [\"csv\"]\n",
    "\n",
    "    @classmethod\n",
    "    def parse(cls, path: str) -> List[QuoteModel]:\n",
    "        \"\"\"Parse QuoteModel obj of csv files and return a list of them.\"\"\"\n",
    "        if not cls.can_ingest(path):\n",
    "            raise ValueError(f'File {path} cannot be processed')\n",
    "\n",
    "        \n",
    "        df = pd.read_csv(path)\n",
    "        quotes = [QuoteModel(df.loc[idx, 'body'], df.loc[idx, 'author']) for idx in range(len(df))]\n",
    "        return quotes"
   ]
  },
  {
   "cell_type": "code",
   "execution_count": 5,
   "id": "d083d984",
   "metadata": {},
   "outputs": [
    {
     "data": {
      "text/plain": [
       "[Quote Model Author: Skittle, Quote Model body: Chase the mailman,\n",
       " Quote Model Author: Mr. Paws, Quote Model body: When in doubt, go shoe-shopping]"
      ]
     },
     "execution_count": 5,
     "metadata": {},
     "output_type": "execute_result"
    }
   ],
   "source": [
    "csv_quote = CSVInterface()\n",
    "csv_quote.parse(\"..\\\\_data\\\\DogQuotes\\\\DogQuotesCSV.csv\")"
   ]
  },
  {
   "cell_type": "code",
   "execution_count": 6,
   "id": "4f9ef46d",
   "metadata": {},
   "outputs": [],
   "source": [
    "class TXTInterface(IngestorInterface):\n",
    "    \"\"\"A class that handles the ingestion of txt files.\"\"\"\n",
    "\n",
    "    accepted_files = [\"txt\"]\n",
    "\n",
    "    @classmethod\n",
    "    def parse(cls, path: str) -> List[QuoteModel]:\n",
    "        \"\"\"\n",
    "        Parse QuoteModel objects of txt files and return a list of QuoteModels.\n",
    "        \"\"\"\n",
    "        if not cls.can_ingest(path):\n",
    "            raise ValueError(f'File {path} cannot be processed')\n",
    "\n",
    "        with open(path, \"r\", encoding=\"utf-8-sig\") as infile:\n",
    "            filelines = infile.readlines()\n",
    "        \n",
    "        rows = [row.replace(\"\\n\", \"\").split(\"-\") for row in filelines]\n",
    "        quotes = [QuoteModel(quote[0].strip(), quote[1].strip()) for quote in rows]\n",
    "        return quotes"
   ]
  },
  {
   "cell_type": "code",
   "execution_count": 7,
   "id": "9810de97",
   "metadata": {},
   "outputs": [
    {
     "data": {
      "text/plain": [
       "[Quote Model Author: Bork, Quote Model body: To bork or not to bork,\n",
       " Quote Model Author: Stinky, Quote Model body: He who smelt it...]"
      ]
     },
     "execution_count": 7,
     "metadata": {},
     "output_type": "execute_result"
    }
   ],
   "source": [
    "txt_quote = TXTInterface()\n",
    "txt_quote.parse(\"..\\\\_data\\\\DogQuotes\\\\DogQuotesTXT.txt\")"
   ]
  },
  {
   "cell_type": "code",
   "execution_count": 18,
   "id": "11e64902",
   "metadata": {},
   "outputs": [],
   "source": [
    "class DOCXInterface(IngestorInterface):\n",
    "    \"\"\"A class that handles the ingestion of docx files.\"\"\"\n",
    "\n",
    "    accepted_files = [\"docx\"]\n",
    "\n",
    "    @classmethod\n",
    "    def parse(cls, path: str) -> List[QuoteModel]:\n",
    "        \"\"\"Parse QuoteModel obj of docx files and return a list of them.\"\"\"\n",
    "        if not cls.can_ingest(path):\n",
    "            raise ValueError(f'File {path} cannot be processed')\n",
    "            \n",
    "        doc = docx.Document(path)\n",
    "        \n",
    "        rows = [row.text.split('-') for row in doc.paragraphs if row.text != \"\"]\n",
    "        quotes = [QuoteModel(quote[0].strip(), quote[1].strip()) for quote in rows]\n",
    "\n",
    "\n",
    "        return quotes"
   ]
  },
  {
   "cell_type": "code",
   "execution_count": 19,
   "id": "a72db752",
   "metadata": {},
   "outputs": [
    {
     "data": {
      "text/plain": [
       "[Quote Model Author: Rex, Quote Model body: \"Bark like no one’s listening\",\n",
       " Quote Model Author: Chewy, Quote Model body: \"RAWRGWAWGGR\",\n",
       " Quote Model Author: Peanut, Quote Model body: \"Life is like peanut butter: crunchy\",\n",
       " Quote Model Author: Tiny, Quote Model body: \"Channel your inner husky\"]"
      ]
     },
     "execution_count": 19,
     "metadata": {},
     "output_type": "execute_result"
    }
   ],
   "source": [
    "docx_quote = DOCXInterface()\n",
    "docx_quote.parse(\"..\\\\_data\\\\DogQuotes\\\\DogQuotesDOCX.docx\")"
   ]
  },
  {
   "cell_type": "code",
   "execution_count": null,
   "id": "7e777e06",
   "metadata": {},
   "outputs": [],
   "source": []
  }
 ],
 "metadata": {
  "kernelspec": {
   "display_name": "Python 3 (ipykernel)",
   "language": "python",
   "name": "python3"
  },
  "language_info": {
   "codemirror_mode": {
    "name": "ipython",
    "version": 3
   },
   "file_extension": ".py",
   "mimetype": "text/x-python",
   "name": "python",
   "nbconvert_exporter": "python",
   "pygments_lexer": "ipython3",
   "version": "3.9.12"
  }
 },
 "nbformat": 4,
 "nbformat_minor": 5
}
