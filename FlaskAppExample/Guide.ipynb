{
 "cells": [
  {
   "cell_type": "markdown",
   "metadata": {
    "editable": false
   },
   "source": [
    "## Setting Up the Server Framework"
   ]
  },
  {
   "cell_type": "markdown",
   "metadata": {
    "editable": false
   },
   "source": [
    "Let's try out Flask! Before you get started, make sure you have the latest version of flask installed by running:\n",
    "```bash\n",
    "pip install flask -U\n",
    "```\n",
    "\n",
    "Next, we'll need to start off with some basic code to import the Flask class and use this class to create an object:\n",
    "\n",
    "```python\n",
    "from flask import Flask\n",
    "app = Flask(__name__)\n",
    "```\n",
    "\n",
    "Notice that we are passing `__name__` to the `Flask` class. This is simply the name of the application package. Python sets this variable to the name of the package the code is in. In our case, we are simply adding this code to our `app.py` file, so Python will assign the name `app` to the `__name__` variable."
   ]
  },
  {
   "cell_type": "markdown",
   "metadata": {
    "editable": false,
    "video": {
     "duration": 101,
     "id": "103395",
     "subtitles": [],
     "topher_id": "74afe348-0fe0-11ea-a768-0242ac11000c",
     "transcodings": {
      "uri_480p_1000kbps_mp4": "https://video.udacity-data.com/topher/2019/November/5ddc6c49_nd303-c2-l5-12-step-1-setup-flask/nd303-c2-l5-12-step-1-setup-flask_480p_1000kbps.mp4",
      "uri_480p_mp4": "https://video.udacity-data.com/topher/2019/November/5ddc6c49_nd303-c2-l5-12-step-1-setup-flask/nd303-c2-l5-12-step-1-setup-flask_480p.mp4",
      "uri_720p_mp4": "https://video.udacity-data.com/topher/2019/November/5ddc6c49_nd303-c2-l5-12-step-1-setup-flask/nd303-c2-l5-12-step-1-setup-flask_720p.mp4",
      "uri_hls": "https://video.udacity-data.com/topher/2019/November/5ddc6c49_nd303-c2-l5-12-step-1-setup-flask/hls/playlist.m3u8"
     },
     "youtube_id": "1iE8DmeXeJs"
    }
   },
   "source": []
  },
  {
   "cell_type": "markdown",
   "metadata": {
    "editable": false
   },
   "source": [
    "### Try it!\n",
    "\n",
    "If you haven't already, go ahead and try implementing the basic Flask code Gabe demonstrated in `app.py`. Once we have the basics, we'll see how we can modify our code to use it with the umbrella app we've been working on.\n",
    "\n",
    "To start the flask server, run:\n",
    "```text\n",
    "export FLASK_APP=app.py\n",
    "flask run --host 0.0.0.0 --port 3000 --reload\n",
    "```\n",
    "> **Note:** the host and port are required to access the server from within this notebook.\n",
    "\n",
    "Finally, add some end points by using the home method `@app.route` as a template and replacing the uri (`'/'`) and the method name `home`. \n",
    "\n"
   ]
  },
  {
   "cell_type": "markdown",
   "metadata": {
    "editable": false,
    "ulab": {
     "buttons": {
      "ulab-button-d19ad458": {
       "bashCommand": "",
       "filesToOpen": [],
       "isPreviewButton": true,
       "runInBackground": false,
       "style": "primary",
       "text": "Open Preview",
       "toggleOffText": "HIDE SOLUTION",
       "toggleOnText": "SHOW SOLUTION"
      }
     }
    }
   },
   "source": [
    "<button id=\"ulab-button-d19ad458\" class=\"ulab-btn--primary\"></button>"
   ]
  },
  {
   "cell_type": "markdown",
   "metadata": {
    "editable": false,
    "toggleable": true,
    "ulab": {
     "buttons": {
      "ulab-button-toggle-53219a7f": {
       "style": "primary"
      }
     }
    }
   },
   "source": [
    "```python\n",
    "from flask import Flask\n",
    "\n",
    "app = Flask(__name__)\n",
    "\n",
    "@app.route('/')\n",
    "def home():\n",
    "    return 'yo'\n",
    "\n",
    "@app.route('/')\n",
    "def candy():\n",
    "    return 'chocolate'\n",
    "\n",
    "@app.route('/')\n",
    "def greeting():\n",
    "    return 'hello!'\n",
    "\n",
    "```"
   ]
  },
  {
   "cell_type": "markdown",
   "metadata": {
    "editable": false
   },
   "source": [
    "<!--\n",
    "%%ulab_page_divider\n",
    "--><hr/>"
   ]
  },
  {
   "cell_type": "markdown",
   "metadata": {
    "editable": false
   },
   "source": [
    "## Performing Actions on our Server"
   ]
  },
  {
   "cell_type": "markdown",
   "metadata": {
    "editable": false,
    "video": {
     "duration": 78,
     "id": "103396",
     "subtitles": [],
     "topher_id": "e9f78676-0fe0-11ea-8f5f-0242ac110006",
     "transcodings": {
      "uri_480p_1000kbps_mp4": "https://video.udacity-data.com/topher/2019/November/5ddc6d0e_nd303-c2-l5-13-step-2-implement-endpoints/nd303-c2-l5-13-step-2-implement-endpoints_480p_1000kbps.mp4",
      "uri_480p_mp4": "https://video.udacity-data.com/topher/2019/November/5ddc6d0e_nd303-c2-l5-13-step-2-implement-endpoints/nd303-c2-l5-13-step-2-implement-endpoints_480p.mp4",
      "uri_720p_mp4": "https://video.udacity-data.com/topher/2019/November/5ddc6d0e_nd303-c2-l5-13-step-2-implement-endpoints/nd303-c2-l5-13-step-2-implement-endpoints_720p.mp4",
      "uri_hls": "https://video.udacity-data.com/topher/2019/November/5ddc6d0e_nd303-c2-l5-13-step-2-implement-endpoints/hls/playlist.m3u8"
     },
     "youtube_id": "1ztxOoQ8QIs"
    }
   },
   "source": []
  },
  {
   "cell_type": "markdown",
   "metadata": {
    "editable": false,
    "ulab": {
     "buttons": {
      "ulab-button-8d03dde1": {
       "bashCommand": "",
       "filesToOpen": [],
       "isPreviewButton": true,
       "runInBackground": false,
       "style": "primary",
       "text": "Open Preview",
       "toggleOffText": "HIDE SOLUTION",
       "toggleOnText": "SHOW SOLUTION"
      }
     }
    }
   },
   "source": [
    "<button id=\"ulab-button-8d03dde1\" class=\"ulab-btn--primary\"></button>"
   ]
  },
  {
   "cell_type": "markdown",
   "metadata": {
    "editable": false
   },
   "source": [
    "### Try it!\n",
    "\n",
    "We'll be using the WeatherService we've defined in a previous exercise. First, we need to make sure that we're using a valid API key. To do this, replace the `appId` variable in `weatherService.py` with your API Key from [OpenWeatherMap](https://home.openweathermap.org/api_keys).\n",
    "\n",
    "Next, import the `makeUmbrellaDecision` method from the `umbrella` module and perform the action in the `home` method."
   ]
  },
  {
   "cell_type": "markdown",
   "metadata": {
    "editable": false,
    "toggleable": true,
    "ulab": {
     "buttons": {
      "ulab-button-toggle-222c5e75": {
       "style": "primary"
      }
     }
    }
   },
   "source": [
    "```python\n",
    "from flask import Flask\n",
    "from umbrella import makeUmbrellaDecision\n",
    "app = Flask(__name__)\n",
    "\n",
    "@app.route('/')\n",
    "def home():\n",
    "    if makeUmbrellaDecision('new york', 'us'):\n",
    "        return 'Bring an umbrella'\n",
    "    else:\n",
    "        return 'No need for an umbrella'\n",
    "```"
   ]
  },
  {
   "cell_type": "markdown",
   "metadata": {
    "editable": false
   },
   "source": [
    "<!--\n",
    "%%ulab_page_divider\n",
    "--><hr/>"
   ]
  },
  {
   "cell_type": "markdown",
   "metadata": {
    "editable": false
   },
   "source": [
    "## User Input with Query Params"
   ]
  },
  {
   "cell_type": "markdown",
   "metadata": {
    "editable": false,
    "video": {
     "duration": 82,
     "id": "103397",
     "subtitles": [],
     "topher_id": "764cfef9-0fe1-11ea-b010-0242ac110027",
     "transcodings": {
      "uri_480p_1000kbps_mp4": "https://video.udacity-data.com/topher/2019/November/5ddc6df9_nd303-c2-l5-14-step-3-query/nd303-c2-l5-14-step-3-query_480p_1000kbps.mp4",
      "uri_480p_mp4": "https://video.udacity-data.com/topher/2019/November/5ddc6df9_nd303-c2-l5-14-step-3-query/nd303-c2-l5-14-step-3-query_480p.mp4",
      "uri_720p_mp4": "https://video.udacity-data.com/topher/2019/November/5ddc6df9_nd303-c2-l5-14-step-3-query/nd303-c2-l5-14-step-3-query_720p.mp4",
      "uri_hls": "https://video.udacity-data.com/topher/2019/November/5ddc6df9_nd303-c2-l5-14-step-3-query/hls/playlist.m3u8"
     },
     "youtube_id": "RHqIn78J2oE"
    }
   },
   "source": []
  },
  {
   "cell_type": "markdown",
   "metadata": {
    "editable": false,
    "ulab": {
     "buttons": {
      "ulab-button-59b5255a": {
       "bashCommand": "",
       "filesToOpen": [],
       "isPreviewButton": true,
       "runInBackground": false,
       "style": "primary",
       "text": "Open Preview",
       "toggleOffText": "HIDE SOLUTION",
       "toggleOnText": "SHOW SOLUTION"
      }
     }
    }
   },
   "source": [
    "<button id=\"ulab-button-59b5255a\" class=\"ulab-btn--primary\"></button>"
   ]
  },
  {
   "cell_type": "markdown",
   "metadata": {
    "editable": false
   },
   "source": [
    "Finally, let's add user input using a query parameter. A query parameter is specified at the end of the url, following a question mark: `?name=value&name2=value2`. \n",
    "\n",
    "We can access these variables using: `request.args.get(param_name)`. \n",
    "\n",
    "__Your task:__\n",
    "1. Refactor the city variable to take a query param.\n",
    "2. If the city is not set, specify a default value."
   ]
  },
  {
   "cell_type": "markdown",
   "metadata": {
    "editable": false,
    "toggleable": true,
    "ulab": {
     "buttons": {
      "ulab-button-toggle-5e9c7c1b": {
       "style": "primary"
      }
     }
    }
   },
   "source": [
    "```python\n",
    "from flask import Flask, request\n",
    "from umbrella import makeUmbrellaDecision\n",
    "app = Flask(__name__)\n",
    "\n",
    "@app.route('/')\n",
    "def home():\n",
    "    city = request.args.get('city')\n",
    "    if city is None:\n",
    "        city = 'new york'\n",
    "    if makeUmbrellaDecision(city, 'us'):\n",
    "        return 'Bring an umbrella'\n",
    "    else:\n",
    "        return 'No need for an umbrella'\n",
    "```"
   ]
  }
 ],
 "metadata": {
  "kernelspec": {
   "display_name": "Python 3 (ipykernel)",
   "language": "python",
   "name": "python3"
  },
  "language_info": {
   "codemirror_mode": {
    "name": "ipython",
    "version": 3
   },
   "file_extension": ".py",
   "mimetype": "text/x-python",
   "name": "python",
   "nbconvert_exporter": "python",
   "pygments_lexer": "ipython3",
   "version": "3.9.12"
  },
  "ulab_nb_type": "guided"
 },
 "nbformat": 4,
 "nbformat_minor": 4
}
