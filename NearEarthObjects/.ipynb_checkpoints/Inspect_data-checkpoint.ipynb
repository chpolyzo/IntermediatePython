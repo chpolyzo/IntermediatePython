{
 "cells": [
  {
   "cell_type": "code",
   "execution_count": 1,
   "id": "3e95b47f-f1fb-44a5-abb0-e4e9f6ecdf78",
   "metadata": {},
   "outputs": [],
   "source": [
    "import csv\n",
    "import json\n",
    "neos_path = \"./data/neos.csv\"\n",
    "cad_path = \"./data/cad.json\""
   ]
  },
  {
   "cell_type": "code",
   "execution_count": 2,
   "id": "27b97f03-75d1-4265-8fe5-2b634006cefc",
   "metadata": {},
   "outputs": [],
   "source": [
    "def createNeosKeys(path):\n",
    "    \"\"\"Takes a csv file path and returns a list of feature names\n",
    "    aka labels to be used as python dictionary keys\"\"\"\n",
    "    try:\n",
    "        f = open(path, 'r')\n",
    "        neos_labels = next(f).split(',') # first line of the file\n",
    "\n",
    "    finally:\n",
    "        f.close()\n",
    "        return neos_labels[:-1]"
   ]
  },
  {
   "cell_type": "code",
   "execution_count": 3,
   "id": "9aae4ab8-94bc-4b65-9e86-e1371a4689a8",
   "metadata": {},
   "outputs": [],
   "source": [
    "def createNeosValues(path):\n",
    "    \"\"\"Takes a csv file path and returns a list of the \n",
    "    feature values to be used as python dictionary values\"\"\"\n",
    "    neos_elements = []\n",
    "    \n",
    "    with open(path) as infile:\n",
    "        reader = csv.reader(infile)\n",
    "        next(reader)\n",
    "        for row in reader:\n",
    "            neos_elements.append(row)\n",
    "        return neos_elements"
   ]
  },
  {
   "cell_type": "code",
   "execution_count": 4,
   "id": "cd61dc87-d06e-475f-8f21-054e70fc6020",
   "metadata": {},
   "outputs": [],
   "source": [
    "def loadCad(path):\n",
    "    \"\"\"Takes a json file path and returns a dictionary\"\"\"\n",
    "    with open(path) as f:\n",
    "        return json.load(f)"
   ]
  },
  {
   "cell_type": "markdown",
   "id": "ec23b8ae-722f-49e6-acd2-8b9f518383f7",
   "metadata": {},
   "source": [
    "### Create NEOS dictionary"
   ]
  },
  {
   "cell_type": "code",
   "execution_count": 5,
   "id": "3cb99f4d-04a1-4077-9451-95bd0544c7d7",
   "metadata": {},
   "outputs": [],
   "source": [
    "neos_keys = createNeosKeys(neos_path)"
   ]
  },
  {
   "cell_type": "code",
   "execution_count": 6,
   "id": "b6eee7f0-9149-460d-b0e7-49f27db12e93",
   "metadata": {},
   "outputs": [],
   "source": [
    "neos_values = createNeosValues(neos_path)"
   ]
  },
  {
   "cell_type": "code",
   "execution_count": 7,
   "id": "1e3bd554-56cc-41c6-8d32-80173ce337ab",
   "metadata": {},
   "outputs": [],
   "source": [
    "neos_dict = {}\n",
    "neos_dict[neos_keys[0]] = [i[0] for i in neos_values]"
   ]
  },
  {
   "cell_type": "code",
   "execution_count": 8,
   "id": "823fee6a-7736-471e-bf59-aa190c731c35",
   "metadata": {},
   "outputs": [],
   "source": [
    "neos_dict = {}\n",
    "for feat in range(len(neos_keys)):\n",
    "    neos_dict[neos_keys[feat]] = [i[feat] for i in neos_values]"
   ]
  },
  {
   "cell_type": "code",
   "execution_count": 9,
   "id": "b744f8b3-2564-4231-9836-8a535ecf0e5f",
   "metadata": {},
   "outputs": [],
   "source": [
    "neos_dict = {neos_keys[feat]:[i[feat] for i in neos_values] for feat in range(len(neos_keys))}"
   ]
  },
  {
   "cell_type": "markdown",
   "id": "105e3ca2-92b2-4bff-b905-8fc131c18e58",
   "metadata": {},
   "source": [
    "### Create CAD dictionary"
   ]
  },
  {
   "cell_type": "code",
   "execution_count": 10,
   "id": "57257e15-53f1-4315-ac56-35c19d09b808",
   "metadata": {},
   "outputs": [],
   "source": [
    "cad_data = loadCad(cad_path)"
   ]
  },
  {
   "cell_type": "code",
   "execution_count": 11,
   "id": "b7fe4287-373d-442a-b3a3-e4d8390c1294",
   "metadata": {},
   "outputs": [],
   "source": [
    "# Create cad dictionary: The official\n",
    "cad_keys = cad_data['fields']\n",
    "cad_values = cad_data['data']\n",
    "cad_dict = {}\n",
    "for feat in range(len(cad_keys)):\n",
    "    cad_dict[cad_keys[feat]] = [i[feat] for i in cad_values]"
   ]
  },
  {
   "cell_type": "code",
   "execution_count": 12,
   "id": "807c7566-9b9f-4be3-92f5-aaa300138ec3",
   "metadata": {},
   "outputs": [],
   "source": [
    "# Alternative way to create the cad dictionary: The official\n",
    "cad_dictionary = {}\n",
    "cad_dictionary['des'] = [i[0] for i in cad_data['data']]\n",
    "cad_dictionary['orbit_id'] = [i[1] for i in cad_data['data']]\n",
    "cad_dictionary['jd'] = [i[2] for i in cad_data['data']]\n",
    "cad_dictionary['cd'] = [i[3] for i in cad_data['data']]\n",
    "cad_dictionary['dist'] = [i[4] for i in cad_data['data']]\n",
    "cad_dictionary['dist_min'] = [i[5] for i in cad_data['data']]\n",
    "cad_dictionary['dist_max'] = [i[6] for i in cad_data['data']]\n",
    "cad_dictionary['v_rel'] = [i[7] for i in cad_data['data']]\n",
    "cad_dictionary['v_inf'] = [i[8] for i in cad_data['data']]\n",
    "cad_dictionary['t_sigma_f'] = [i[9] for i in cad_data['data']]\n",
    "cad_dictionary['h'] = [i[10] for i in cad_data['data']]"
   ]
  },
  {
   "cell_type": "code",
   "execution_count": 13,
   "id": "fe40d24d-492a-479b-bbe4-d21adbfbe73a",
   "metadata": {},
   "outputs": [],
   "source": [
    "# yet another way to create the cad dictionary\n",
    "another_cad_dict = {cad_keys[feat]:[i[feat] for i in cad_values] for feat in range(len(cad_keys))}"
   ]
  },
  {
   "cell_type": "code",
   "execution_count": 14,
   "id": "c515e649-ffe9-47d0-b9cf-6046026ea91d",
   "metadata": {},
   "outputs": [],
   "source": [
    "# Wonder if it would be possible to do this using lambda and map\n",
    "# list(map(lambda a: cad_dict['data'][a][0], cad_dict['data']))"
   ]
  },
  {
   "cell_type": "markdown",
   "id": "57bea4ed-dfaf-40eb-8e18-76c1f269d9bd",
   "metadata": {},
   "source": [
    "### 1. How many NEOs are in the `neos.csv` data set?"
   ]
  },
  {
   "cell_type": "code",
   "execution_count": 15,
   "id": "59d74e0e-8db9-46ce-a4b4-af48190001f8",
   "metadata": {},
   "outputs": [
    {
     "data": {
      "text/plain": [
       "23967"
      ]
     },
     "execution_count": 15,
     "metadata": {},
     "output_type": "execute_result"
    }
   ],
   "source": [
    "# I need to check the length of neos_values list\n",
    "len(neos_values)"
   ]
  },
  {
   "cell_type": "markdown",
   "id": "53bfedd1-148c-4b7b-a61d-4ca811104be7",
   "metadata": {},
   "source": [
    "### 2. What is the primary designation of the first Near Earth Object in the neos.csv data set?\n",
    "Hint: Look at the first row of the CSV, under the header \"pdes\""
   ]
  },
  {
   "cell_type": "code",
   "execution_count": 16,
   "id": "021bcb90-a31c-4455-b46f-ed1bea75cf65",
   "metadata": {},
   "outputs": [
    {
     "data": {
      "text/plain": [
       "'433'"
      ]
     },
     "execution_count": 16,
     "metadata": {},
     "output_type": "execute_result"
    }
   ],
   "source": [
    "# I look at the first row of the CSV, under the header \"pdes\"\n",
    "neos_dict['pdes'][0]"
   ]
  },
  {
   "cell_type": "markdown",
   "id": "9bd898d6-39e5-49fe-b4c1-0fc6b10d115a",
   "metadata": {},
   "source": [
    "### 3. What is the diameter (in kilometers) of the NEO whose name is \"Apollo\"?\n",
    "\n",
    "Hint: Look for the row of the CSV containing the name \"Apollo\" in the \"name\" column, and find the entry under the \"diameter\" column."
   ]
  },
  {
   "cell_type": "code",
   "execution_count": 17,
   "id": "6f5db31a-af93-42b4-9818-7f369666347d",
   "metadata": {},
   "outputs": [
    {
     "name": "stdout",
     "output_type": "stream",
     "text": [
      "True\n"
     ]
    },
    {
     "data": {
      "text/plain": [
       "'1.5'"
      ]
     },
     "execution_count": 17,
     "metadata": {},
     "output_type": "execute_result"
    }
   ],
   "source": [
    "# check if \"Apollo\" is in the name field\n",
    "print(\"Apollo\" in neos_dict['name'])\n",
    "# save the index of the \"Apollo\" name in the 'name' list\n",
    "apollo_index = neos_dict['name'].index(\"Apollo\")\n",
    "# Print out the diameter of the Apollo index\n",
    "neos_dict['diameter'][apollo_index]"
   ]
  },
  {
   "cell_type": "markdown",
   "id": "0066894b-c120-4efc-a72e-48de2af50fc8",
   "metadata": {},
   "source": [
    "### 4. How many NEOs have IAU names in the data set?\n",
    "\n",
    "Hint: Count the number of rows that have nonempty entries in the \"name\" column."
   ]
  },
  {
   "cell_type": "code",
   "execution_count": 18,
   "id": "8017c742-64db-470d-a99c-8e699c806786",
   "metadata": {},
   "outputs": [
    {
     "data": {
      "text/plain": [
       "343"
      ]
     },
     "execution_count": 18,
     "metadata": {},
     "output_type": "execute_result"
    }
   ],
   "source": [
    "# Check the number of empty indeces in the \"name\" column\n",
    "empty_name_indices = [i for i, x in enumerate(neos_dict['name']) if x == \"\"]\n",
    "# find the difference\n",
    "len(neos_values) - len(empty_name_indices)"
   ]
  },
  {
   "cell_type": "markdown",
   "id": "b2cabfc6-20c8-4e39-9988-3edbcd596409",
   "metadata": {},
   "source": [
    "### 5. How many NEOs have diameters in the data set?\n",
    "\n",
    "Hint: Count the number of rows that have nonempty entries in the \"diameter\" column."
   ]
  },
  {
   "cell_type": "code",
   "execution_count": 19,
   "id": "847557c7-1d20-46e3-a232-fa3a18a30323",
   "metadata": {},
   "outputs": [
    {
     "data": {
      "text/plain": [
       "1268"
      ]
     },
     "execution_count": 19,
     "metadata": {},
     "output_type": "execute_result"
    }
   ],
   "source": [
    "# Check the number of rows that have nonempty entries in the \"diameter\" column.\n",
    "empty_diameter_indices = [i for i, x in enumerate(neos_dict['diameter']) if x == \"\"]\n",
    "# find the difference\n",
    "len(neos_values) - len(empty_diameter_indices)"
   ]
  },
  {
   "cell_type": "markdown",
   "id": "a568e388-6d7d-4656-a96c-d936f63c873e",
   "metadata": {},
   "source": [
    "### 6. How many close approaches are in the cad.json data set?\n",
    "\n",
    "Hint: Instead of manually counting the entries, you can use the value of the \"count\" key."
   ]
  },
  {
   "cell_type": "code",
   "execution_count": 20,
   "id": "02500d55-18b9-4fc6-a1a4-858dc2dfb0e3",
   "metadata": {},
   "outputs": [
    {
     "name": "stdout",
     "output_type": "stream",
     "text": [
      "dict_keys(['signature', 'count', 'fields', 'data'])\n"
     ]
    },
    {
     "data": {
      "text/plain": [
       "'406785'"
      ]
     },
     "execution_count": 20,
     "metadata": {},
     "output_type": "execute_result"
    }
   ],
   "source": [
    "# check cad_data keys to have a first glimpse of our data\n",
    "print(cad_data.keys())\n",
    "# I use the value of the \"count\" key\n",
    "cad_data['count']"
   ]
  },
  {
   "cell_type": "markdown",
   "id": "44f6aa2c-7672-4179-a702-74dc099d0b6c",
   "metadata": {},
   "source": [
    "### 7. On January 1st, 2000, how close did the NEO whose primary designation is \"2015 CL\" pass by Earth?\n",
    "\n",
    "Hint: Find entries whose date starts with '2000-Jan-01'. One of the lists represents the close approach of the NEO \"2015 CL\". What is the value corresponding to the distance from Earth?"
   ]
  },
  {
   "cell_type": "code",
   "execution_count": 21,
   "id": "b40cb446-c2e4-4c55-8d67-259743da29bf",
   "metadata": {},
   "outputs": [],
   "source": [
    "idx_2015_cl = cad_dict['des'].index(\"2015 CL\")"
   ]
  },
  {
   "cell_type": "code",
   "execution_count": 22,
   "id": "4ca04f54-433b-47ea-965c-b1b8c7dfb90b",
   "metadata": {},
   "outputs": [
    {
     "data": {
      "text/plain": [
       "['2015 CL',\n",
       " '7',\n",
       " '2415739.441927107',\n",
       " '1901-Dec-20 22:36',\n",
       " '0.101258799371365',\n",
       " '0.100350977515448',\n",
       " '0.102168118307516',\n",
       " '12.4965470610001',\n",
       " '12.4944412172315',\n",
       " '03:16',\n",
       " '25.3']"
      ]
     },
     "execution_count": 22,
     "metadata": {},
     "output_type": "execute_result"
    }
   ],
   "source": [
    "cad_data['data'][idx_2015_cl]"
   ]
  },
  {
   "cell_type": "markdown",
   "id": "7aa21f78-289e-44f6-b535-24381a1de9cf",
   "metadata": {},
   "source": [
    "### 8. On January 1st, 2000, how fast did the NEO whose primary designation is \"2002 PB\" pass by Earth?\n",
    "\n",
    "Hint: Find entries whose date starts with '2000-Jan-01'. One of the lists represents the close approach of the NEO \"2002 PB\". What is the value corresponding to the velocity relative to Earth?"
   ]
  },
  {
   "cell_type": "code",
   "execution_count": 23,
   "id": "89f4dcab-9213-414d-b80e-28dba3010711",
   "metadata": {},
   "outputs": [
    {
     "data": {
      "text/plain": [
       "['2002 PB',\n",
       " '22',\n",
       " '2415054.516136742',\n",
       " '1900-Feb-04 00:23',\n",
       " '0.199796539822994',\n",
       " '0.199791629100154',\n",
       " '0.199801451243355',\n",
       " '21.4737681744826',\n",
       " '21.4731471304202',\n",
       " '00:14',\n",
       " '20.5']"
      ]
     },
     "execution_count": 23,
     "metadata": {},
     "output_type": "execute_result"
    }
   ],
   "source": [
    "idx_2002_cl = cad_dict['des'].index(\"2002 PB\")\n",
    "cad_data['data'][idx_2002_cl]"
   ]
  }
 ],
 "metadata": {
  "kernelspec": {
   "display_name": "Python 3 (ipykernel)",
   "language": "python",
   "name": "python3"
  },
  "language_info": {
   "codemirror_mode": {
    "name": "ipython",
    "version": 3
   },
   "file_extension": ".py",
   "mimetype": "text/x-python",
   "name": "python",
   "nbconvert_exporter": "python",
   "pygments_lexer": "ipython3",
   "version": "3.9.13"
  }
 },
 "nbformat": 4,
 "nbformat_minor": 5
}
